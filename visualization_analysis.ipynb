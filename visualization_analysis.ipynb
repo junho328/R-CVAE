{
 "cells": [
  {
   "cell_type": "code",
   "execution_count": 1,
   "metadata": {},
   "outputs": [
    {
     "data": {
      "text/plain": [
       "Dataset({\n",
       "    features: ['question', 'answer'],\n",
       "    num_rows: 7473\n",
       "})"
      ]
     },
     "execution_count": 1,
     "metadata": {},
     "output_type": "execute_result"
    }
   ],
   "source": [
    "from datasets import load_dataset\n",
    "\n",
    "dataset = load_dataset(\"openai/gsm8k\", \"main\", split=\"train\")\n",
    "dataset"
   ]
  },
  {
   "cell_type": "code",
   "execution_count": 6,
   "metadata": {},
   "outputs": [],
   "source": [
    "Q = dataset[\"question\"]\n",
    "R = dataset[\"answer\"]"
   ]
  },
  {
   "cell_type": "code",
   "execution_count": 8,
   "metadata": {},
   "outputs": [
    {
     "name": "stdout",
     "output_type": "stream",
     "text": [
      "Legoland has 5 kangaroos for each koala. If Legoland has 180 kangaroos, how many koalas and kangaroos are there altogether?\n",
      "For every 5 kangaroos, there is one koala, meaning for the 180 kangaroos, there are 180/5 = <<180/5=36>>36 koalas.\n",
      "Altogether, there are 36+180 = <<36+180=216>>216 koalas and kangaroos.\n",
      "#### 216 \n",
      "\n",
      "Hayes does 3 loads of laundry a week using a detergent pod for each load.  His detergent pods come 39 to a pack.  How many packs of detergent pods will he need to do a full year of laundry?\n",
      "He uses 3 detergent pods a week and there are 52 weeks in a year, so he uses 3*52 = <<3*52=156>>156\n",
      "His detergent has 39 pods per pack and he needs 156 pods, so he will need 156/39 = <<156/39=4>>4 packs of detergent pods\n",
      "#### 4 \n",
      "\n",
      "Jane plans on reading a novel she borrows from her friend. She reads twice a day, once in the morning and once in the evening. In the morning she reads 5 pages and in the evening she reads 10 pages. If she reads at this rate for a week, how many pages will she read?\n",
      "The number of pages Jane reads in a day is 5 in the morning and 10 in the evening, so she reads 10 + 5 = <<10+5=15>>15 pages in a day.\n",
      "If she reads for a week she reads for 7 days, so by the end of the week she reads 15 * 7 = <<15*7=105>>105 pages.\n",
      "#### 105 \n",
      "\n"
     ]
    }
   ],
   "source": [
    "cands = [984,523,1053]\n",
    "\n",
    "for i in cands:\n",
    "    print(Q[i])\n",
    "    print(R[i],\"\\n\")"
   ]
  },
  {
   "cell_type": "code",
   "execution_count": null,
   "metadata": {},
   "outputs": [],
   "source": []
  }
 ],
 "metadata": {
  "kernelspec": {
   "display_name": "env",
   "language": "python",
   "name": "python3"
  },
  "language_info": {
   "codemirror_mode": {
    "name": "ipython",
    "version": 3
   },
   "file_extension": ".py",
   "mimetype": "text/x-python",
   "name": "python",
   "nbconvert_exporter": "python",
   "pygments_lexer": "ipython3",
   "version": "3.10.16"
  }
 },
 "nbformat": 4,
 "nbformat_minor": 2
}
